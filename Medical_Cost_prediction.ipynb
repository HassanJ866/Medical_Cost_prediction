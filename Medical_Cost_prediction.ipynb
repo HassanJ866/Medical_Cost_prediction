{
  "nbformat": 4,
  "nbformat_minor": 0,
  "metadata": {
    "colab": {
      "name": "Medical Cost prediction",
      "provenance": []
    },
    "kernelspec": {
      "name": "python3",
      "display_name": "Python 3"
    }
  },
  "cells": [
    {
      "cell_type": "markdown",
      "metadata": {
        "id": "SKzBo_NmCSMR",
        "colab_type": "text"
      },
      "source": [
        "# Medical Cost \n",
        "\n",
        "\n",
        "Columns\n",
        "\n",
        "\n",
        "*   **age**: age of primary beneficiary\n",
        "*   **sex**: insurance contractor gender, female, male\n",
        "*   **bmi**: Body mass index, providing an understanding of body, weights that are relatively high or low relative to height,\n",
        "objective index of body weight (kg / m ^ 2) using the ratio of height to weight, ideally 18.5 to 24.9\n",
        "*   **children**: Number of children covered by health insurance / Number of dependents\n",
        "*   **smoker**: Smoking\n",
        "*   **region**: the beneficiary's residential area in the US, northeast, southeast, southwest, northwest.\n",
        "*   **charges**: Individual medical costs billed by health insurance"
      ]
    },
    {
      "cell_type": "markdown",
      "metadata": {
        "id": "GfyJQMOnE_48",
        "colab_type": "text"
      },
      "source": [
        "## 1. Import necessary python modules\n",
        "\n",
        "We will need the following libraries:\n",
        " - Numpy — for scientific computing (e.g., linear algebra (vectors & matrices)).\n",
        " - Pandas — providing high-performance, easy-to-use data reading, manipulation, and analysis.\n",
        " - Matplotlib — plotting & visualization.\n",
        " - scikit-learn — a tool for data mining and machine learning models."
      ]
    },
    {
      "cell_type": "code",
      "metadata": {
        "id": "u9nnDKPjAfGq",
        "colab_type": "code",
        "colab": {}
      },
      "source": [
        "import numpy as np\n",
        "import pandas as pd\n",
        "import matplotlib.pyplot as plt\n",
        "\n",
        "from sklearn.model_selection import train_test_split\n",
        "from sklearn.linear_model import LinearRegression"
      ],
      "execution_count": null,
      "outputs": []
    },
    {
      "cell_type": "markdown",
      "metadata": {
        "id": "Az3L-5-6HNSF",
        "colab_type": "text"
      },
      "source": [
        "## 2. Download the data\n",
        "Dataset can be found on Kaggle. For simplicity, it has been uploaded to Github. Link is provided for you in the cell below. Let's download our data from Github."
      ]
    },
    {
      "cell_type": "code",
      "metadata": {
        "id": "rlruZVRqHOlu",
        "colab_type": "code",
        "colab": {}
      },
      "source": [
        "# clone Github repository\n",
        "!git clone https://github.com/zaka-ai/medical-cost-prediction.git\n",
        "\n",
        "# change directory \n",
        "%cd medical-cost-prediction/"
      ],
      "execution_count": null,
      "outputs": []
    },
    {
      "cell_type": "markdown",
      "metadata": {
        "id": "4LEivAvUHIE3",
        "colab_type": "text"
      },
      "source": [
        "## 3. Read & visualize data\n",
        "Data now is stored on disk in a csv (Comma Separated Values) file. To load the data to our code, we use **pandas** module, more specifically, the **read_csv** function."
      ]
    },
    {
      "cell_type": "code",
      "metadata": {
        "id": "_hep8239AzVU",
        "colab_type": "code",
        "colab": {}
      },
      "source": [
        "# path to dataset \n",
        "filename = \"data/insurance.csv\"\n",
        "\n",
        "# read CSV file in Pandas\n",
        "data = pd.read_csv(filename)\n",
        "\n",
        "# display first 10 rows\n",
        "data.head(10)"
      ],
      "execution_count": null,
      "outputs": []
    },
    {
      "cell_type": "markdown",
      "metadata": {
        "id": "qgIxvmAKhiqe",
        "colab_type": "text"
      },
      "source": [
        "## 4. Exploratory Data Analysis\n",
        "\n",
        "Let's dig deeper & understand our data"
      ]
    },
    {
      "cell_type": "markdown",
      "metadata": {
        "id": "LbXDTkiQhzwq",
        "colab_type": "text"
      },
      "source": [
        "**Task:** how many rows & columns in our dataset"
      ]
    },
    {
      "cell_type": "code",
      "metadata": {
        "id": "nUf0K_SMh1og",
        "colab_type": "code",
        "colab": {}
      },
      "source": [
        "# get the number of rows and columns\n",
        "rows = data.shape[0]\n",
        "columns = data.shape[1]\n",
        "\n",
        "print('There are {} rows and {} columns.'.format(rows,columns))"
      ],
      "execution_count": null,
      "outputs": []
    },
    {
      "cell_type": "markdown",
      "metadata": {
        "id": "rPqsS9S2B2M4",
        "colab_type": "text"
      },
      "source": [
        "Using the function **info()**, we can check:\n",
        " - data types (int, float, or object (e.g., string))\n",
        " - missing values\n",
        " - memory usage\n",
        " - number of rows and columns"
      ]
    },
    {
      "cell_type": "code",
      "metadata": {
        "id": "exWsHvXSA7nz",
        "colab_type": "code",
        "colab": {}
      },
      "source": [
        "data.info()"
      ],
      "execution_count": null,
      "outputs": []
    },
    {
      "cell_type": "markdown",
      "metadata": {
        "id": "Kt2KsZa2B63T",
        "colab_type": "text"
      },
      "source": [
        "Using the function **describe()**, we can check the mean, standard deviation, maximum, and minimum of each numerical feature (column)"
      ]
    },
    {
      "cell_type": "code",
      "metadata": {
        "id": "pifR8QwkA-DW",
        "colab_type": "code",
        "colab": {}
      },
      "source": [
        "data.describe()"
      ],
      "execution_count": null,
      "outputs": []
    },
    {
      "cell_type": "markdown",
      "metadata": {
        "id": "cp4rE9yyjkua",
        "colab_type": "text"
      },
      "source": [
        "### Data visualization\n",
        "\n",
        "#### Distribution of charges\n",
        "\n",
        "First, let's look at the distribution of charges. This will help us to know how much patients spend on treatment on average."
      ]
    },
    {
      "cell_type": "code",
      "metadata": {
        "id": "A9VxLmCMjhtZ",
        "colab_type": "code",
        "colab": {}
      },
      "source": [
        "# plot the histogram of the charges\n",
        "data[\"charges\"].plot(kind=\"hist\")\n",
        "plt.title(\"Distribution of charges\")\n",
        "plt.xlabel(\"Charges\")\n",
        "plt.ylabel(\"Frequency\")\n",
        "plt.show()"
      ],
      "execution_count": null,
      "outputs": []
    },
    {
      "cell_type": "markdown",
      "metadata": {
        "id": "-C6DoqLJkZaJ",
        "colab_type": "text"
      },
      "source": [
        "#### Correlation between smoking and cost of treatment\n",
        "\n",
        "Let's see if smokers spend more or less on treatment than non-smokers!\n",
        "\n",
        "First, let's see how many smokers vs non-smokers we have."
      ]
    },
    {
      "cell_type": "code",
      "metadata": {
        "id": "2bYxq0B4m4eg",
        "colab_type": "code",
        "colab": {}
      },
      "source": [
        "# select smokers \n",
        "smokers = data[(data.smoker == \"yes\")]\n",
        "\n",
        "# select non smokers\n",
        "non_smokers = data[(data.smoker == \"no\")]\n",
        "\n",
        "print('There are {} smokers and {} non-smokers.'.format(smokers.shape[0], non_smokers.shape[0]))"
      ],
      "execution_count": null,
      "outputs": []
    },
    {
      "cell_type": "markdown",
      "metadata": {
        "id": "0V4oPfA3nMqt",
        "colab_type": "text"
      },
      "source": [
        "Now let's plot the charges for both."
      ]
    },
    {
      "cell_type": "code",
      "metadata": {
        "id": "uwn0w9SKj9AZ",
        "colab_type": "code",
        "colab": {}
      },
      "source": [
        "# create the figure\n",
        "fig = plt.figure(figsize=(12,5))\n",
        "\n",
        "# add first sub plot for smokers\n",
        "ax = fig.add_subplot(121)\n",
        "# draw distribution of charges for smokers\n",
        "ax.hist(smokers[\"charges\"])\n",
        "# set sub plot title\n",
        "ax.set_title('Distribution of charges for smokers')\n",
        "\n",
        "# add second sub plot for non smokers\n",
        "ax = fig.add_subplot(122)\n",
        "# draw distribution of charges for non-smokers\n",
        "ax.hist(non_smokers[\"charges\"])\n",
        "# set sub plot title\n",
        "ax.set_title('Distribution of charges for non-smokers')"
      ],
      "execution_count": null,
      "outputs": []
    },
    {
      "cell_type": "markdown",
      "metadata": {
        "id": "9h3TXsFXVoKy",
        "colab_type": "text"
      },
      "source": [
        "Smoking patients spend more on treatment."
      ]
    },
    {
      "cell_type": "markdown",
      "metadata": {
        "id": "z764ssFHV7KM",
        "colab_type": "text"
      },
      "source": [
        "#### Correlation between age and cost of treatment\n",
        "\n",
        "First, let's look at the distribution of age in our dataset, and then look at how age affects the cost of treatment."
      ]
    },
    {
      "cell_type": "code",
      "metadata": {
        "id": "G6Z5JkrLlEbV",
        "colab_type": "code",
        "colab": {}
      },
      "source": [
        "# plot histogram for age distribution\n",
        "plt.hist(data[\"age\"])\n",
        "plt.title(\"Age distribution\")\n",
        "plt.xlabel(\"Age\")\n",
        "plt.ylabel(\"Frequency\")\n",
        "plt.show()"
      ],
      "execution_count": null,
      "outputs": []
    },
    {
      "cell_type": "markdown",
      "metadata": {
        "id": "Y57UaJL_Wyyr",
        "colab_type": "text"
      },
      "source": [
        "Let's plot the correlation between age and cost of treatment"
      ]
    },
    {
      "cell_type": "code",
      "metadata": {
        "id": "sGC1lp-yWaWz",
        "colab_type": "code",
        "colab": {}
      },
      "source": [
        "# draw a scatter plot to show correlation between age and charges\n",
        "plt.scatter(data[\"age\"], data[\"charges\"])\n",
        "plt.title(\"Cost of treatment for different ages\")\n",
        "plt.xlabel(\"Age\")\n",
        "plt.ylabel(\"Charges\")\n",
        "plt.show()"
      ],
      "execution_count": null,
      "outputs": []
    },
    {
      "cell_type": "markdown",
      "metadata": {
        "id": "5BvsdKyFcf2X",
        "colab_type": "text"
      },
      "source": [
        "Let's check if smoking also affects this curve.\n",
        "\n",
        "**Task**: show a scatter plot with the correlation between age and cost of treatment while showing smokers in red and non-smokers in blue"
      ]
    },
    {
      "cell_type": "code",
      "metadata": {
        "id": "VEcAVCLrcMEF",
        "colab_type": "code",
        "colab": {}
      },
      "source": [
        "plt.scatter(smokers[\"age\"], smokers[\"charges\"], color='r')\n",
        "plt.scatter(non_smokers[\"age\"], non_smokers[\"charges\"], color='b')\n",
        "plt.title(\"Cost of treatment for different ages\")\n",
        "plt.xlabel(\"Age\")\n",
        "plt.ylabel(\"Charges\")\n",
        "plt.show()"
      ],
      "execution_count": null,
      "outputs": []
    },
    {
      "cell_type": "markdown",
      "metadata": {
        "id": "NYL_dQSKgEER",
        "colab_type": "text"
      },
      "source": [
        "#### Correlation between BMI and cost of treatment\n",
        "\n",
        "# Body Mass Index\n",
        "\n",
        "![alt text](https://4.bp.blogspot.com/-nBF9Z1tFGhI/W3MqbdD0j7I/AAAAAAAAAIs/UdyXTIxsBT8Pl8usABxEK_Fusj5S0SnBQCLcBGAs/s1600/HOW%2BTO%2BCALCULATE%2BBODY%2BMASS%2BINDEX%2BBMI.jpg)\n",
        "\n",
        "# BMI Chart\n",
        "\n",
        "![BMI char](https://images.squarespace-cdn.com/content/v1/56fae4be1d07c0c393d8faa5/1551103826935-HCXS8U78500C06GQ1PLJ/ke17ZwdGBToddI8pDm48kNMeyc_nGAbaGjp3EBJ2o08UqsxRUqqbr1mOJYKfIPR7LoDQ9mXPOjoJoqy81S2I8N_N4V1vUb5AoIIIbLZhVYxCRW4BPu10St3TBAUQYVKckzCNDuUMr1wTvf7-fqd2hrX5O2-_PoO3UJ2jNU1VzJbe6G9-F0r9BTATNUu-NBMy/BMI+Chart.jpg)\n",
        "\n",
        "First, let's look at the distribution of BMI in our dataset, and then look at how it affects the cost of treatment."
      ]
    },
    {
      "cell_type": "code",
      "metadata": {
        "id": "h9EfbSkKYIlR",
        "colab_type": "code",
        "colab": {}
      },
      "source": [
        "# draw a histogram to show the distribution of BMI\n",
        "data[\"bmi\"].plot(kind=\"hist\")\n",
        "plt.title(\"BMI distribution\")\n",
        "plt.xlabel(\"BMI\")\n",
        "plt.ylabel(\"Frequency\")\n",
        "plt.show()"
      ],
      "execution_count": null,
      "outputs": []
    },
    {
      "cell_type": "markdown",
      "metadata": {
        "id": "j-_7LOLyDrzw",
        "colab_type": "text"
      },
      "source": [
        "According to the chart above, obesity starts at BMI = 30. Let's investigate the impact of BMI on cost of treatment. "
      ]
    },
    {
      "cell_type": "code",
      "metadata": {
        "id": "q-lFGDOakFUT",
        "colab_type": "code",
        "colab": {}
      },
      "source": [
        "# select obese people\n",
        "obese = data[(data[\"bmi\"] >= 30)]\n",
        "# select overweight people\n",
        "overweight = data[(data[\"bmi\"] >= 25) & (data[\"bmi\"] < 30)]\n",
        "# select healthy people \n",
        "healthy = data[(data[\"bmi\"] < 25)]\n",
        "\n",
        "print('There are {} obese, {} overweight and {} healthy individuals.'.format(obese.shape[0], overweight.shape[0], healthy.shape[0]))"
      ],
      "execution_count": null,
      "outputs": []
    },
    {
      "cell_type": "markdown",
      "metadata": {
        "id": "vVLLEIcXEJsb",
        "colab_type": "text"
      },
      "source": [
        "To compare, let's plot the distribution of charges for all 3 groups (obese, overweight and healthy) in 1 plot, while showing `obese` data in red, `overweight` data in yellow and `healthy` data in green."
      ]
    },
    {
      "cell_type": "code",
      "metadata": {
        "id": "DXV1VtltgJFm",
        "colab_type": "code",
        "colab": {}
      },
      "source": [
        "plt.hist(obese[\"charges\"], color='r')\n",
        "plt.hist(overweight[\"charges\"], color='y')\n",
        "plt.hist(healthy[\"charges\"], color='g')\n",
        "plt.title(\"Charges distribution\")\n",
        "plt.xlabel(\"Charges\")\n",
        "plt.ylabel(\"Frequency\")\n",
        "plt.show()"
      ],
      "execution_count": null,
      "outputs": []
    },
    {
      "cell_type": "markdown",
      "metadata": {
        "id": "DtB8jDMZnLcT",
        "colab_type": "text"
      },
      "source": [
        "Patients with BMI above 30 spend more on treatment!"
      ]
    },
    {
      "cell_type": "markdown",
      "metadata": {
        "id": "g3X3fDBXnX16",
        "colab_type": "text"
      },
      "source": [
        "## 5. Preprocessing\n",
        "\"Garbage in, garbage out\". \n",
        "\n",
        "Data should be preprocessed and cleaned to get rid of noisy data. \n",
        "Preprocessing includes:\n",
        " - dealing with missing data\n",
        "   - remove whole rows (if they are not a lot)\n",
        "   - infer (e.g., date of birth & age)\n",
        "   - fill with mean, median, or even 0\n",
        " - removing unsued column(s)\n",
        " - convert categorical (non numerical) data into numerical\n",
        " - normalization: standarize data ranges for all features (e.g., between 0 and 1)\n",
        "\n",
        "\n",
        "\n",
        "---\n",
        "\n",
        "\n",
        "\n",
        " Let's start by removing missing data."
      ]
    },
    {
      "cell_type": "code",
      "metadata": {
        "id": "mslOEw7wmf_N",
        "colab_type": "code",
        "colab": {}
      },
      "source": [
        "# print how many missing value in each column\n",
        "data.isnull().sum()"
      ],
      "execution_count": null,
      "outputs": []
    },
    {
      "cell_type": "code",
      "metadata": {
        "id": "ZXvduiy1nckz",
        "colab_type": "code",
        "colab": {}
      },
      "source": [
        "# drop rows with missing values\n",
        "data = data.dropna()\n",
        "data.isnull().sum()"
      ],
      "execution_count": null,
      "outputs": []
    },
    {
      "cell_type": "code",
      "metadata": {
        "id": "bSEzYUz-nevs",
        "colab_type": "code",
        "colab": {}
      },
      "source": [
        "data.info()"
      ],
      "execution_count": null,
      "outputs": []
    },
    {
      "cell_type": "markdown",
      "metadata": {
        "id": "rT-M7TYitDT8",
        "colab_type": "text"
      },
      "source": [
        "#### Remove unused columns\n",
        "\n",
        "Let's remove the `region` column since we don't really care about it"
      ]
    },
    {
      "cell_type": "code",
      "metadata": {
        "id": "YdCm-boktOto",
        "colab_type": "code",
        "colab": {}
      },
      "source": [
        "# dropping the region feature\n",
        "data.drop(\"region\", axis=1, inplace=True)\n",
        "data.head()"
      ],
      "execution_count": null,
      "outputs": []
    },
    {
      "cell_type": "markdown",
      "metadata": {
        "id": "VGcXlEP6ryIZ",
        "colab_type": "text"
      },
      "source": [
        "#### Convert Categorical columns to numerical\n",
        "\n",
        "*   We need to convert the sex column from male/female to 0/1.\n",
        "*   We need to convert the smoker column from no/yes to 0/1.\n",
        "\n",
        "\n",
        "Let's start with the sex column\n",
        "\n"
      ]
    },
    {
      "cell_type": "code",
      "metadata": {
        "id": "cpEbrz7HnfuY",
        "colab_type": "code",
        "colab": {}
      },
      "source": [
        "# define dictionary \n",
        "gender = {'male':0, 'female':1}\n",
        "# replace sex column with 0/1\n",
        "data['sex'] = data['sex'].apply(lambda x: gender[x])\n",
        "# print head to verify\n",
        "data.head()"
      ],
      "execution_count": null,
      "outputs": []
    },
    {
      "cell_type": "markdown",
      "metadata": {
        "id": "AuX-fpHesgmi",
        "colab_type": "text"
      },
      "source": [
        "And now the smokers column"
      ]
    },
    {
      "cell_type": "code",
      "metadata": {
        "id": "LfU8gCe7sCDS",
        "colab_type": "code",
        "colab": {}
      },
      "source": [
        "# define dictionary \n",
        "smokers = {'no':0, 'yes':1}\n",
        "# replace smokers column with 0/1\n",
        "data['smoker'] = data['smoker'].apply(lambda x: smokers[x])\n",
        "# print head to verify\n",
        "data.head()"
      ],
      "execution_count": null,
      "outputs": []
    },
    {
      "cell_type": "markdown",
      "metadata": {
        "id": "uwfqKXYftiS-",
        "colab_type": "text"
      },
      "source": [
        "#### Normalization\n",
        "\n",
        "Let's scale all the columns by dividing by the maximum"
      ]
    },
    {
      "cell_type": "code",
      "metadata": {
        "id": "hJrBAhytsq8c",
        "colab_type": "code",
        "colab": {}
      },
      "source": [
        "# get the max of each column\n",
        "data_max = data.max()\n",
        "data_max"
      ],
      "execution_count": null,
      "outputs": []
    },
    {
      "cell_type": "code",
      "metadata": {
        "id": "oOxtgIjhu36f",
        "colab_type": "code",
        "colab": {}
      },
      "source": [
        "# divide each column by its maximum value\n",
        "data = data.divide(data_max)\n",
        "data.describe()"
      ],
      "execution_count": null,
      "outputs": []
    },
    {
      "cell_type": "markdown",
      "metadata": {
        "id": "nwQPUuGy8vmw",
        "colab_type": "text"
      },
      "source": [
        "### Training\n",
        "\n",
        "#### Data split\n",
        "\n",
        "Before training, we need to split data into training (80%) & testing (20%)"
      ]
    },
    {
      "cell_type": "code",
      "metadata": {
        "id": "5n3DqBUG892K",
        "colab_type": "code",
        "colab": {}
      },
      "source": [
        "# store all columns excpet last one as inputs in X\n",
        "X = data.iloc[:,0:-1].values\n",
        "# store the last column as the output (label) in y  \n",
        "y = data.iloc[:,-1].values  \n",
        "\n",
        "# split dataset in a 80/20 split\n",
        "x_train, x_test, y_train, y_test = train_test_split(X, y, test_size=0.2, random_state=42)\n",
        "\n",
        "print(x_train.shape, y_train.shape)\n",
        "print(x_test.shape, y_test.shape)"
      ],
      "execution_count": null,
      "outputs": []
    },
    {
      "cell_type": "markdown",
      "metadata": {
        "id": "7dPqqZiT97Eg",
        "colab_type": "text"
      },
      "source": [
        "#### Train model\n",
        "\n",
        "##### LinearRegression\n"
      ]
    },
    {
      "cell_type": "code",
      "metadata": {
        "id": "CYUD8wNF9bm3",
        "colab_type": "code",
        "colab": {}
      },
      "source": [
        "# define our regression model\n",
        "model = LinearRegression()  \n",
        "\n",
        "# train our model\n",
        "model.fit(x_train, y_train)\n",
        "print('Model trained!')\n",
        "\n",
        "print('Model score {}'.format(model.score(x_test,y_test)))"
      ],
      "execution_count": null,
      "outputs": []
    },
    {
      "cell_type": "markdown",
      "metadata": {
        "id": "aheCkvxXFb2B",
        "colab_type": "text"
      },
      "source": [
        "####Features importance (weights)\n"
      ]
    },
    {
      "cell_type": "code",
      "metadata": {
        "id": "YIIDhnf-_AfG",
        "colab_type": "code",
        "colab": {}
      },
      "source": [
        "columns_names = data.columns[0:-1].values\n",
        "features_importance = model.coef_\n",
        "plt.barh(columns_names, features_importance)\n",
        "plt.title('Features Importance')\n",
        "plt.xlabel('importance')\n",
        "plt.ylabel('feature')\n",
        "plt.show()"
      ],
      "execution_count": null,
      "outputs": []
    },
    {
      "cell_type": "code",
      "metadata": {
        "id": "BpZ0JoN-_i3C",
        "colab_type": "code",
        "colab": {}
      },
      "source": [
        ""
      ],
      "execution_count": null,
      "outputs": []
    }
  ]
}
